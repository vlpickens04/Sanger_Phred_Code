{
 "cells": [
  {
   "cell_type": "code",
   "execution_count": 7,
   "id": "28d0dd27-503e-46f1-8575-552eb167dd3b",
   "metadata": {},
   "outputs": [],
   "source": [
    "import csv\n",
    "\n",
    "with open('All_16s_fix_2_trim_25.fasta', 'r') as infile, open('trimmed16s_seq_length.csv', 'w', newline='') as outfile:\n",
    "    writer = csv.writer(outfile)\n",
    "    seq_name = ''\n",
    "    seq = ''\n",
    "    for line in infile:\n",
    "        if line.startswith('>'):\n",
    "            if seq:\n",
    "                n_count = seq.count('N')\n",
    "                seq_length = len(seq)\n",
    "                clean_length = seq_length - n_count\n",
    "                writer.writerow([seq_name, seq_length, n_count, clean_length])\n",
    "                seq = ''\n",
    "            seq_name = line.strip().lstrip('>')\n",
    "        else:\n",
    "            seq += line.strip()\n",
    "    if seq:\n",
    "        n_count = seq.count('N')\n",
    "        seq_length = len(seq)\n",
    "        clean_length = seq_length - n_count\n",
    "        writer.writerow([seq_name, seq_length, n_count, clean_length])\n"
   ]
  },
  {
   "cell_type": "code",
   "execution_count": null,
   "id": "a1e243f9-4dfb-4b42-93cd-ee3bfae6abdb",
   "metadata": {},
   "outputs": [],
   "source": []
  }
 ],
 "metadata": {
  "kernelspec": {
   "display_name": "Python 3 (ipykernel)",
   "language": "python",
   "name": "python3"
  },
  "language_info": {
   "codemirror_mode": {
    "name": "ipython",
    "version": 3
   },
   "file_extension": ".py",
   "mimetype": "text/x-python",
   "name": "python",
   "nbconvert_exporter": "python",
   "pygments_lexer": "ipython3",
   "version": "3.9.12"
  }
 },
 "nbformat": 4,
 "nbformat_minor": 5
}
