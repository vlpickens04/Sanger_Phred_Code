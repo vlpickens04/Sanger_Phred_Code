{
 "cells": [
  {
   "cell_type": "code",
   "execution_count": 3,
   "id": "4563195a",
   "metadata": {},
   "outputs": [],
   "source": [
    "my_file = open(\"PhredSeqPlate1\") #Reading the FastQ file generated from Phred output\n",
    "file_contents = my_file.read()\n",
    "my_file.close()"
   ]
  },
  {
   "cell_type": "code",
   "execution_count": 4,
   "id": "12d0bdbc",
   "metadata": {},
   "outputs": [],
   "source": [
    "whole_list = file_contents.split(\"\\n\")\n",
    "lines_per_file = 4\n",
    "for lineno in range(0,len(whole_list)):\n",
    "    if lineno > 0:\n",
    "        if lineno % lines_per_file == 0:\n",
    "            count = 0\n",
    "            tempstring = \"\"\n",
    "            for letter in whole_list[lineno-4]:\n",
    "                inlist = [1,2,3]\n",
    "                if count in inlist:\n",
    "                    tempstring += letter\n",
    "                count +=1\n",
    "            fastq_filename = 'fastq_file_{}.fastq'.format(tempstring)\n",
    "            fastq = open(fastq_filename, \"w\")\n",
    "            fastq.write(whole_list[lineno-4] + \"\\n\")\n",
    "            fastq.write(whole_list[lineno-3] + \"\\n\")\n",
    "            fastq.write(whole_list[lineno-2] + \"\\n\")\n",
    "            fastq.write(whole_list[lineno-1] + \"\\n\")\n",
    "            fastq.close()"
   ]
  },
  {
   "cell_type": "code",
   "execution_count": null,
   "id": "c34de930",
   "metadata": {},
   "outputs": [],
   "source": []
  }
 ],
 "metadata": {
  "kernelspec": {
   "display_name": "Python 3",
   "language": "python",
   "name": "python3"
  },
  "language_info": {
   "codemirror_mode": {
    "name": "ipython",
    "version": 3
   },
   "file_extension": ".py",
   "mimetype": "text/x-python",
   "name": "python",
   "nbconvert_exporter": "python",
   "pygments_lexer": "ipython3",
   "version": "3.8.8"
  }
 },
 "nbformat": 4,
 "nbformat_minor": 5
}
