{
 "cells": [
  {
   "cell_type": "code",
   "execution_count": 1,
   "id": "b296482e-44a8-4c62-b62a-d889b82b009d",
   "metadata": {},
   "outputs": [],
   "source": [
    "seqs_f = open(\"all_out.fasta\", \"r\")\n",
    "quals_f = open(\"all_out.q\", 'r')"
   ]
  },
  {
   "cell_type": "markdown",
   "id": "b59f799a-00de-4582-be9c-77dcdabf93a0",
   "metadata": {},
   "source": [
    "## Fixing Sequences and placing into Dict with File Name as Key"
   ]
  },
  {
   "cell_type": "code",
   "execution_count": 2,
   "id": "9e8ed498-0715-434b-92a3-735c6b7b73a9",
   "metadata": {},
   "outputs": [],
   "source": [
    "seqs = seqs_f.read()"
   ]
  },
  {
   "cell_type": "code",
   "execution_count": 3,
   "id": "4924e976-275c-4e9b-bd53-db70f86c7a09",
   "metadata": {},
   "outputs": [],
   "source": [
    "seqs_nr = seqs.replace('\\n','')\n",
    "# Removing all the returns that phred put in"
   ]
  },
  {
   "cell_type": "code",
   "execution_count": 4,
   "id": "14caa5e5-b4fe-4623-badc-b03678eb65ac",
   "metadata": {},
   "outputs": [],
   "source": [
    "seqs_nr_ls = seqs_nr.split('>')\n",
    "del seqs_nr_ls[0]\n",
    "#Splitting Sequences from a single string into list\n",
    "# Also removing first string as its blank"
   ]
  },
  {
   "cell_type": "code",
   "execution_count": 5,
   "id": "c4d3d064",
   "metadata": {},
   "outputs": [
    {
     "data": {
      "text/plain": [
       "315"
      ]
     },
     "execution_count": 5,
     "metadata": {},
     "output_type": "execute_result"
    }
   ],
   "source": [
    "len(seqs_nr_ls)"
   ]
  },
  {
   "cell_type": "code",
   "execution_count": 6,
   "id": "7bdcc377-e428-4d33-ba5b-754bef946ea9",
   "metadata": {},
   "outputs": [],
   "source": [
    "seqs_dict = {}\n",
    "for seq in seqs_nr_ls:\n",
    "    seq_split = seq.split(' ')\n",
    "    seqs_dict[seq_split[0]] = seq_split[14]\n",
    "#Removing all the extra crap and putting into dictonary"
   ]
  },
  {
   "cell_type": "code",
   "execution_count": 7,
   "id": "f0c57a3f",
   "metadata": {},
   "outputs": [
    {
     "data": {
      "text/plain": [
       "315"
      ]
     },
     "execution_count": 7,
     "metadata": {},
     "output_type": "execute_result"
    }
   ],
   "source": [
    "len(seqs_dict)"
   ]
  },
  {
   "cell_type": "code",
   "execution_count": 8,
   "id": "298e6775-93e3-4594-9a93-8536220356d4",
   "metadata": {},
   "outputs": [],
   "source": [
    "fixed_seqs_dict = {}\n",
    "for k,v in seqs_dict.items():\n",
    "    fixed_seq = v[3:]\n",
    "    fixed_seqs_dict[k] = fixed_seq\n",
    "#Removing AB1 From begining of each sequence"
   ]
  },
  {
   "cell_type": "code",
   "execution_count": 9,
   "id": "b6a4a9d3",
   "metadata": {},
   "outputs": [
    {
     "data": {
      "text/plain": [
       "315"
      ]
     },
     "execution_count": 9,
     "metadata": {},
     "output_type": "execute_result"
    }
   ],
   "source": [
    "len(fixed_seqs_dict)"
   ]
  },
  {
   "cell_type": "markdown",
   "id": "07464a46-7542-48b3-82b5-7972b475ded0",
   "metadata": {},
   "source": [
    "## Fixing Quality scores and placing into Dict with File name as key"
   ]
  },
  {
   "cell_type": "code",
   "execution_count": 10,
   "id": "bc7f6133-d6ce-464d-9a05-9f803928c984",
   "metadata": {},
   "outputs": [],
   "source": [
    "quals = quals_f.read()"
   ]
  },
  {
   "cell_type": "code",
   "execution_count": 11,
   "id": "350f7c23-06f7-42c8-b227-8cbdf4ad8538",
   "metadata": {},
   "outputs": [],
   "source": [
    "quals_nr = quals.replace('\\n', '')"
   ]
  },
  {
   "cell_type": "code",
   "execution_count": 12,
   "id": "564559b6-c242-42d2-a796-23aa3903cc48",
   "metadata": {},
   "outputs": [],
   "source": [
    "quals_nr_ls = quals_nr.split('>')\n",
    "del quals_nr_ls[0]"
   ]
  },
  {
   "cell_type": "code",
   "execution_count": 13,
   "id": "4b628f05",
   "metadata": {},
   "outputs": [
    {
     "data": {
      "text/plain": [
       "315"
      ]
     },
     "execution_count": 13,
     "metadata": {},
     "output_type": "execute_result"
    }
   ],
   "source": [
    "len(quals_nr_ls)"
   ]
  },
  {
   "cell_type": "code",
   "execution_count": 14,
   "id": "442be228-eb9a-414a-9872-480e341e771e",
   "metadata": {},
   "outputs": [],
   "source": [
    "quals_dict = {}\n",
    "for qual in quals_nr_ls:\n",
    "    qual_split_q = qual.split('ABI')\n",
    "    qual_split_n = qual.split(' ')\n",
    "    quals_dict[qual_split_n[0]] = qual_split_q[1]    "
   ]
  },
  {
   "cell_type": "code",
   "execution_count": 15,
   "id": "971fd0a6",
   "metadata": {},
   "outputs": [
    {
     "data": {
      "text/plain": [
       "315"
      ]
     },
     "execution_count": 15,
     "metadata": {},
     "output_type": "execute_result"
    }
   ],
   "source": [
    "len(quals_dict)"
   ]
  },
  {
   "cell_type": "code",
   "execution_count": 16,
   "id": "8f17f6a6-aac2-4eb3-bed8-c71195287b71",
   "metadata": {},
   "outputs": [],
   "source": [
    "converted_quals_dict = {}\n",
    "for k,v in quals_dict.items():\n",
    "    val_fix = ''\n",
    "    val_convert = ''\n",
    "    split_ls = v.split(' ')\n",
    "    if split_ls[-1] == '':\n",
    "        del split_ls[-1]\n",
    "    for val in split_ls:\n",
    "        if int(val) <= 40:\n",
    "            val_fix += val + ' '\n",
    "        elif int(val) > 40:\n",
    "            val_fix += '40 '\n",
    "        else:\n",
    "            print('how')\n",
    "    split_val_fix = val_fix.split(' ')\n",
    "    if split_val_fix[-1] == '':\n",
    "        del split_val_fix[-1]\n",
    "    for val in split_val_fix:\n",
    "        val_convert += chr(int(val) + 33)\n",
    "    converted_quals_dict[k] = val_convert"
   ]
  },
  {
   "cell_type": "code",
   "execution_count": 17,
   "id": "524f9f7a",
   "metadata": {},
   "outputs": [
    {
     "data": {
      "text/plain": [
       "315"
      ]
     },
     "execution_count": 17,
     "metadata": {},
     "output_type": "execute_result"
    }
   ],
   "source": [
    "len(converted_quals_dict)"
   ]
  },
  {
   "cell_type": "markdown",
   "id": "a0b5ea67-4886-46c3-8f74-69c771dbb8bb",
   "metadata": {},
   "source": [
    "## Making it into a fastq"
   ]
  },
  {
   "cell_type": "code",
   "execution_count": 18,
   "id": "e8ffa80a-6a9b-45cb-ac26-209b371cfc3c",
   "metadata": {},
   "outputs": [],
   "source": [
    "## converted_quals_dict -- final quals dict\n",
    "## fixed_seqs_dict -- final seqs dict"
   ]
  },
  {
   "cell_type": "code",
   "execution_count": 19,
   "id": "73096e8c-28f6-4d97-b0cc-ba18fa80c128",
   "metadata": {},
   "outputs": [
    {
     "name": "stdout",
     "output_type": "stream",
     "text": [
      "YES\n"
     ]
    }
   ],
   "source": [
    "if converted_quals_dict.keys() == fixed_seqs_dict.keys():\n",
    "    print('YES')"
   ]
  },
  {
   "cell_type": "code",
   "execution_count": 20,
   "id": "ff37e8d7-a2db-4761-8539-4a1364232447",
   "metadata": {},
   "outputs": [],
   "source": [
    "paired_dict = {}\n",
    "for k in converted_quals_dict.keys():\n",
    "    paired_dict[k] = [fixed_seqs_dict[k], converted_quals_dict[k]]"
   ]
  },
  {
   "cell_type": "code",
   "execution_count": 21,
   "id": "19e0b508",
   "metadata": {},
   "outputs": [
    {
     "data": {
      "text/plain": [
       "315"
      ]
     },
     "execution_count": 21,
     "metadata": {},
     "output_type": "execute_result"
    }
   ],
   "source": [
    "len(paired_dict)"
   ]
  },
  {
   "cell_type": "code",
   "execution_count": 22,
   "id": "c5786c51-db6c-444b-b8da-d9aefde62d28",
   "metadata": {},
   "outputs": [],
   "source": [
    "final_file_fastq = ''\n",
    "for k,v in paired_dict.items():\n",
    "    string = '@' + k + '\\n' + v[0] + '\\n' + '+' + '\\n' + v[1] + '\\n'\n",
    "    final_file_fastq += string"
   ]
  },
  {
   "cell_type": "code",
   "execution_count": 23,
   "id": "db7560cc",
   "metadata": {},
   "outputs": [],
   "source": [
    "final_file_fasta = ''\n",
    "for k,v in paired_dict.items():\n",
    "    string = '>' + k + '\\n' + v[0] + '\\n'\n",
    "    final_file_fasta += string"
   ]
  },
  {
   "cell_type": "code",
   "execution_count": 24,
   "id": "f53d6d85-6247-490c-b248-26a0e2fc777d",
   "metadata": {},
   "outputs": [],
   "source": [
    "sanger2_2019_fastq = open('All_16s_fix_2.fastq', 'w')\n",
    "n = sanger2_2019_fastq.write(final_file_fastq)\n",
    "sanger2_2019_fastq.close()"
   ]
  },
  {
   "cell_type": "code",
   "execution_count": 25,
   "id": "b4eb8679-aed2-4599-838f-122361d172ca",
   "metadata": {},
   "outputs": [],
   "source": [
    "sanger2_2019_fasta = open('All_16s_fix_2.fasta', 'w')\n",
    "n = sanger2_2019_fasta.write(final_file_fasta)\n",
    "sanger2_2019_fasta.close()"
   ]
  },
  {
   "cell_type": "code",
   "execution_count": 26,
   "id": "96872938",
   "metadata": {},
   "outputs": [],
   "source": [
    "seqs_f.close()\n",
    "quals_f.close()"
   ]
  },
  {
   "cell_type": "code",
   "execution_count": null,
   "id": "aa530f89",
   "metadata": {},
   "outputs": [],
   "source": []
  }
 ],
 "metadata": {
  "kernelspec": {
   "display_name": "Python 3",
   "language": "python",
   "name": "python3"
  },
  "language_info": {
   "codemirror_mode": {
    "name": "ipython",
    "version": 3
   },
   "file_extension": ".py",
   "mimetype": "text/x-python",
   "name": "python",
   "nbconvert_exporter": "python",
   "pygments_lexer": "ipython3",
   "version": "3.8.8"
  }
 },
 "nbformat": 4,
 "nbformat_minor": 5
}
